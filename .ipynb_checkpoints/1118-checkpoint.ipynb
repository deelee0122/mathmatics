{
 "cells": [
  {
   "cell_type": "markdown",
   "id": "be530a73-4b96-4495-99fc-aa0d778b1786",
   "metadata": {},
   "source": [
    "# 두 직선의 계수를 정의합니다\n",
    "# 첫 번째 직선: 2x + 3y = 5\n",
    "# 두 번째 직선: -x + y = 5"
   ]
  },
  {
   "cell_type": "code",
   "execution_count": 2,
   "id": "677a4fb1-d871-41e5-bbe4-15446c78c87a",
   "metadata": {},
   "outputs": [],
   "source": [
    "import numpy as np"
   ]
  },
  {
   "cell_type": "code",
   "execution_count": 3,
   "id": "9a77e266-f29a-47a4-a64a-269bcce0b6c1",
   "metadata": {},
   "outputs": [],
   "source": [
    "from sympy import Matrix"
   ]
  },
  {
   "cell_type": "code",
   "execution_count": 4,
   "id": "a39ce937-cddc-468d-895d-eae6bff73666",
   "metadata": {},
   "outputs": [],
   "source": [
    "A = np.array([[2, 3], [-1, 1]])\n",
    "B = np.array([5, 5])"
   ]
  },
  {
   "cell_type": "code",
   "execution_count": 5,
   "id": "2a70e073-0f5e-4c59-b65d-7ca473de1485",
   "metadata": {},
   "outputs": [
    {
     "data": {
      "text/plain": [
       "array([-2.,  3.])"
      ]
     },
     "execution_count": 5,
     "metadata": {},
     "output_type": "execute_result"
    }
   ],
   "source": [
    "np.linalg.solve(A,B)"
   ]
  },
  {
   "cell_type": "code",
   "execution_count": 6,
   "id": "cb623e41-5033-4c08-a4c8-e8f3fb927a65",
   "metadata": {},
   "outputs": [],
   "source": [
    "A_Matrix = np.array([[ 2, 3], [-1, 1]])\n",
    "sympy_matrix = Matrix(A)"
   ]
  },
  {
   "cell_type": "code",
   "execution_count": 7,
   "id": "5131d4ad-5814-4392-8153-a2caf907f8f9",
   "metadata": {},
   "outputs": [
    {
     "name": "stdout",
     "output_type": "stream",
     "text": [
      "행렬의 rref\n",
      "Matrix([[1, 0], [0, 1]])\n",
      "Pivot columns (0, 1)\n"
     ]
    }
   ],
   "source": [
    "rref_matrix, pivot_columns = sympy_matrix.rref()\n",
    "print(\"행렬의 rref\")\n",
    "print(rref_matrix)\n",
    "print(\"Pivot columns\", pivot_columns)"
   ]
  },
  {
   "cell_type": "markdown",
   "id": "1b24c529-009a-4593-b6ee-1a56075853aa",
   "metadata": {},
   "source": [
    "# 두 직선의 계수를 정의합니다\n",
    "# 첫 번째 직선: 2x + 3y = 5\n",
    "# 두 번째 직선: -x + y = 5"
   ]
  },
  {
   "cell_type": "code",
   "execution_count": 9,
   "id": "dee1d01b-38c3-43e6-8bc9-e0a757b7c166",
   "metadata": {},
   "outputs": [],
   "source": [
    "A = np.array([[2, 3], [-2, -3]])\n",
    "B = np.array([5, 15])"
   ]
  },
  {
   "cell_type": "code",
   "execution_count": 10,
   "id": "4ec16bb6-cb31-48e7-8a9e-6be5b2592aed",
   "metadata": {},
   "outputs": [],
   "source": [
    "# A_Matrix = np.array(A)\n",
    "sympy_matrix = Matrix(A)"
   ]
  },
  {
   "cell_type": "code",
   "execution_count": 11,
   "id": "995ab49e-42a5-4504-b267-6b3def06ba47",
   "metadata": {},
   "outputs": [
    {
     "data": {
      "text/plain": [
       "(Matrix([\n",
       " [1, 3/2],\n",
       " [0,   0]]),\n",
       " (0,))"
      ]
     },
     "execution_count": 11,
     "metadata": {},
     "output_type": "execute_result"
    }
   ],
   "source": [
    "rref_m , pivot_c = sympy_matrix.rref()\n",
    "rref_m, pivot_c"
   ]
  },
  {
   "cell_type": "markdown",
   "id": "b4e90266-09ac-446a-898b-556c9f315ef7",
   "metadata": {},
   "source": [
    "<a href=\"https://adamdhalla.medium.com/linear-algebra-4-reduced-row-echelon-form-for-solving-ax-0-74f64b4f37ce\">RREF</a>"
   ]
  },
  {
   "cell_type": "markdown",
   "id": "ac0f739f-97ed-4acc-b76b-72e32d2be01d",
   "metadata": {},
   "source": [
    "### 3개의 평면의 계수를 정의합니다\n",
    "# 첫 번째 직선: 2x + 3y +7z = 5\n",
    "# 두 번째 직선: 3x + 4y +12z = 7\n",
    "# 두 번째 직선: -6x + 6y +5z = 13"
   ]
  },
  {
   "cell_type": "code",
   "execution_count": 14,
   "id": "7173e387-f269-4572-bfe9-65701c4e4c95",
   "metadata": {},
   "outputs": [],
   "source": [
    "A_x = np.array([2,3,7])\n",
    "B_y = np.array([3,4,12])\n",
    "C_z = np.array([-6,6,5])"
   ]
  },
  {
   "cell_type": "code",
   "execution_count": 15,
   "id": "0c529abc-5a72-478c-84ba-c64acecb31af",
   "metadata": {},
   "outputs": [],
   "source": [
    "b= np.array([5,7,13])"
   ]
  },
  {
   "cell_type": "code",
   "execution_count": 16,
   "id": "a38a2bae-3f3b-42df-bdfb-6e70b932dbdd",
   "metadata": {},
   "outputs": [
    {
     "data": {
      "text/plain": [
       "(array([ 3.71830986,  4.8028169 , 15.33802817]),\n",
       " array([-1.09859155,  1.09859155,  0.91549296]))"
      ]
     },
     "execution_count": 16,
     "metadata": {},
     "output_type": "execute_result"
    }
   ],
   "source": [
    "result =np.linalg.solve([A_x, B_y, C_z], b)\n",
    "np.dot(result[0], A_x.T) + np.dot(result[1], B_y.T), np.dot(result[2], C_z.T)"
   ]
  },
  {
   "cell_type": "code",
   "execution_count": 17,
   "id": "7fd736e8-0306-4d72-9da7-a828f9cc8ee8",
   "metadata": {
    "scrolled": true
   },
   "outputs": [
    {
     "name": "stdout",
     "output_type": "stream",
     "text": [
      "Result: [ 4.54929577 -1.53521127 -0.08450704]\n",
      "Combined Result: [ 5.  7. 13.]\n"
     ]
    }
   ],
   "source": [
    "import numpy as np\n",
    "\n",
    "# 세 벡터 정의\n",
    "A_x = np.array([2, 3, 7])\n",
    "B_y = np.array([3, 4, 12])\n",
    "C_z = np.array([-6, 6, 5])\n",
    "\n",
    "# 결과 벡터\n",
    "b = np.array([5, 7, 13])\n",
    "\n",
    "# 열벡터 형태로 행렬 생성\n",
    "matrix = np.array([A_x, B_y, C_z]).T  # 벡터들을 열벡터로 전치\n",
    "\n",
    "# 선형 방정식 풀이\n",
    "result = np.linalg.solve(matrix, b)\n",
    "\n",
    "# 선형 결합 결과 확인\n",
    "combined_result = result[0] * A_x + result[1] * B_y + result[2] * C_z\n",
    "print(\"Result:\", result)\n",
    "print(\"Combined Result:\", combined_result)"
   ]
  },
  {
   "cell_type": "code",
   "execution_count": 18,
   "id": "bb62b638-106f-4193-a23a-297f3162be82",
   "metadata": {},
   "outputs": [
    {
     "name": "stdout",
     "output_type": "stream",
     "text": [
      "Result: [-9.80783919e+15  7.00559942e+15  2.33519981e+14]\n",
      "Combined Result: [1.75 2.25 9.75]\n"
     ]
    }
   ],
   "source": [
    "import numpy as np\n",
    "\n",
    "# 세 벡터 정의\n",
    "A_x = np.array([2, 3, 7])\n",
    "B_y = np.array([3, 4, 10])\n",
    "C_z = np.array([-6, 6, -6])\n",
    "\n",
    "# 결과 벡터\n",
    "b = np.array([5, 7, 13])\n",
    "\n",
    "# 열벡터 형태로 행렬 생성\n",
    "matrix = np.array([A_x, B_y, C_z]).T  # 벡터들을 열벡터로 전치\n",
    "\n",
    "# 선형 방정식 풀이\n",
    "result = np.linalg.solve(matrix, b)\n",
    "\n",
    "# 선형 결합 결과 확인\n",
    "combined_result = result[0] * A_x + result[1] * B_y + result[2] * C_z\n",
    "print(\"Result:\", result)\n",
    "print(\"Combined Result:\", combined_result)"
   ]
  },
  {
   "cell_type": "markdown",
   "id": "927ede0a-a84a-444f-ab5e-053f93861700",
   "metadata": {},
   "source": [
    "<h3>C 벡터는 A 와 B벡터의 선형 결합으로 이루어진 벡터이므로 평면안에 포함된다 그래서 b를 구하지 못한다</h3>"
   ]
  },
  {
   "cell_type": "code",
   "execution_count": 20,
   "id": "0e8a595f-280a-4cdb-a4da-022490ac6ad4",
   "metadata": {},
   "outputs": [
    {
     "name": "stdout",
     "output_type": "stream",
     "text": [
      "Result: [ 2.2  1.6 -0.6]\n",
      "Combined Result: [ 5.  7. 13.]\n"
     ]
    }
   ],
   "source": [
    "import numpy as np\n",
    "\n",
    "# 세 벡터 정의\n",
    "A_x = np.array([2, 3, 7])\n",
    "B_y = np.array([3, 4, 12])\n",
    "C_z = np.array([7, 10, 36])\n",
    "\n",
    "# 결과 벡터\n",
    "b = np.array([5, 7, 13])\n",
    "\n",
    "# 열벡터 형태로 행렬 생성\n",
    "matrix = np.array([A_x, B_y, C_z]).T  # 벡터들을 열벡터로 전치\n",
    "\n",
    "# 선형 방정식 풀이\n",
    "result = np.linalg.solve(matrix, b)\n",
    "\n",
    "# 선형 결합 결과 확인\n",
    "combined_result = result[0] * A_x + result[1] * B_y + result[2] * C_z\n",
    "print(\"Result:\", result)\n",
    "print(\"Combined Result:\", combined_result)"
   ]
  },
  {
   "cell_type": "code",
   "execution_count": 21,
   "id": "d1e6b49c-959a-4062-9155-71a9f9dbe411",
   "metadata": {},
   "outputs": [],
   "source": [
    "A_x = np.array([2, 3, 7])\n",
    "B_y = np.array([3, 4, 12])\n",
    "C_z = np.array([7, 10, 26])"
   ]
  },
  {
   "cell_type": "code",
   "execution_count": 22,
   "id": "ffdc6c76-7de9-43ec-9313-baf5f8f8942f",
   "metadata": {},
   "outputs": [
    {
     "data": {
      "text/latex": [
       "$\\displaystyle \\left[\\begin{matrix}2 & 3 & 7\\\\3 & 4 & 12\\\\7 & 10 & 26\\end{matrix}\\right]$"
      ],
      "text/plain": [
       "Matrix([\n",
       "[2,  3,  7],\n",
       "[3,  4, 12],\n",
       "[7, 10, 26]])"
      ]
     },
     "execution_count": 22,
     "metadata": {},
     "output_type": "execute_result"
    }
   ],
   "source": [
    "sympy_matrix_three_dim = Matrix([A_x,B_y,C_z])\n",
    "sympy_matrix_three_dim"
   ]
  },
  {
   "cell_type": "code",
   "execution_count": 23,
   "id": "8eb916b4-9e39-4c17-abc8-f899e55aa697",
   "metadata": {},
   "outputs": [
    {
     "data": {
      "text/plain": [
       "(Matrix([\n",
       " [1, 0,  8],\n",
       " [0, 1, -3],\n",
       " [0, 0,  0]]),\n",
       " (0, 1))"
      ]
     },
     "execution_count": 23,
     "metadata": {},
     "output_type": "execute_result"
    }
   ],
   "source": [
    "rref_m , pivot_c = sympy_matrix_three_dim.rref()\n",
    "rref_m, pivot_c"
   ]
  }
 ],
 "metadata": {
  "kernelspec": {
   "display_name": "Python 3 (ipykernel)",
   "language": "python",
   "name": "python3"
  },
  "language_info": {
   "codemirror_mode": {
    "name": "ipython",
    "version": 3
   },
   "file_extension": ".py",
   "mimetype": "text/x-python",
   "name": "python",
   "nbconvert_exporter": "python",
   "pygments_lexer": "ipython3",
   "version": "3.12.4"
  }
 },
 "nbformat": 4,
 "nbformat_minor": 5
}
