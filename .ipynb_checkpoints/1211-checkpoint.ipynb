{
 "cells": [
  {
   "cell_type": "code",
   "execution_count": 3,
   "id": "01605197-7609-4e2d-b9fa-1b05e974e0a0",
   "metadata": {},
   "outputs": [],
   "source": [
    "import numpy as np"
   ]
  },
  {
   "cell_type": "markdown",
   "id": "f690eda7-3376-49d7-bfb4-aca13a0925dd",
   "metadata": {},
   "source": [
    "<img src=\"images/1211/1.JPG\"/>"
   ]
  },
  {
   "cell_type": "markdown",
   "id": "db82595a-e5d4-4505-8bfe-0b18412e7312",
   "metadata": {},
   "source": [
    "Code"
   ]
  },
  {
   "cell_type": "code",
   "execution_count": 13,
   "id": "9fbedd70-4974-4faa-bdb3-5a93b50c7240",
   "metadata": {},
   "outputs": [],
   "source": [
    "class Norm:\n",
    "    def __init__(self, x, y=np.array([])):\n",
    "        assert type(x) != None\n",
    "        self.x = x\n",
    "        self.y = y\n",
    "\n",
    "    def one_norm(self, x):\n",
    "        x_new = []\n",
    "        for i in x:\n",
    "            x_new.append(i**2)\n",
    "        return sum(np.array(x_new))**(1/2)\n",
    "\n",
    "    def two_norm(self, x, y):\n",
    "        x_new = []\n",
    "        for i, j in zip(x, y):\n",
    "            x_new.append((i - j)**2)\n",
    "\n",
    "        x_new = sum(np.array(x_new))\n",
    "        return x_new**(1/2)\n",
    "\n",
    "    def call(self):\n",
    "        if self.y.size > 0:\n",
    "            return self.two_norm(self.x, self.y)\n",
    "        else:\n",
    "            return self.one_norm(self.x)"
   ]
  },
  {
   "cell_type": "code",
   "execution_count": 17,
   "id": "1c679e45-38e5-4b75-9148-e1f34eb49269",
   "metadata": {},
   "outputs": [
    {
     "data": {
      "text/plain": [
       "3.7416573867739413"
      ]
     },
     "execution_count": 17,
     "metadata": {},
     "output_type": "execute_result"
    }
   ],
   "source": [
    "x = np.array([1,2,3])\n",
    "norm = Norm(x)\n",
    "norm.one_norm(x)"
   ]
  },
  {
   "cell_type": "code",
   "execution_count": 19,
   "id": "8cbc5325-d7d6-46a6-8b8e-ed709e041376",
   "metadata": {},
   "outputs": [
    {
     "data": {
      "text/plain": [
       "12.609520212918492"
      ]
     },
     "execution_count": 19,
     "metadata": {},
     "output_type": "execute_result"
    }
   ],
   "source": [
    "x = np.array([1,2,3,4])\n",
    "y = np.array([11,-1,2,-3])\n",
    "norm.two_norm(x, y)"
   ]
  },
  {
   "cell_type": "code",
   "execution_count": 23,
   "id": "58182b30-72f1-4a0b-9524-d023b2c2a080",
   "metadata": {},
   "outputs": [
    {
     "name": "stdout",
     "output_type": "stream",
     "text": [
      "love11\n",
      "belief23\n",
      "hatred13\n",
      "grate14\n"
     ]
    }
   ],
   "source": [
    "x=['love', 'belief', 'hatred', 'grate']\n",
    "xx = [11,23,13,14]\n",
    "for i , j in zip(x,xx):\n",
    "    print(i+str(j))"
   ]
  },
  {
   "cell_type": "markdown",
   "id": "990141c4-ede7-4e63-a4e9-1c9c5a456b66",
   "metadata": {},
   "source": [
    "## 예제\n",
    "$ R^{4}의 벡터 x=(2,-1,3,2), y=(3,2,1,-4) $\n",
    "에 대하여 각 벡터의 원점에 대한 norm과 x와 y에 대한 norm을 구하여라"
   ]
  },
  {
   "cell_type": "code",
   "execution_count": 28,
   "id": "32e0d6db-399d-43d2-bd5d-e241b3d6dc12",
   "metadata": {},
   "outputs": [
    {
     "name": "stdout",
     "output_type": "stream",
     "text": [
      "x의 원점에 대한 norm: 4.242640687119285\n",
      "y의 원점에 대한 norm 5.477225575051661\n",
      "x와 y의 norm: 7.0710678118654755\n"
     ]
    }
   ],
   "source": [
    "x = np.array([2, -1, 3, 2])\n",
    "y = np.array([3, 2, 1, -4])\n",
    "\n",
    "answer_1 = Norm(x).call()\n",
    "answer_2 = Norm(y).call()\n",
    "answer_3 = Norm(x, y).call()\n",
    "\n",
    "print(f\"x의 원점에 대한 norm: {answer_1}\\ny의 원점에 대한 norm {answer_2}\\nx와 y의 norm: {answer_3}\")"
   ]
  },
  {
   "cell_type": "markdown",
   "id": "046e2936-5981-41aa-af3a-e9d11549e07b",
   "metadata": {},
   "source": [
    "<img src=\"images/1211/2.JPG\"/>"
   ]
  },
  {
   "cell_type": "code",
   "execution_count": 33,
   "id": "ca276ab7-b414-4307-8b70-ffd5f204d720",
   "metadata": {},
   "outputs": [],
   "source": [
    "def inner_product(x, y):\n",
    "    a = 0\n",
    "    for i, j in zip(x, y):\n",
    "        a += i * j\n",
    "    return a"
   ]
  },
  {
   "cell_type": "code",
   "execution_count": 39,
   "id": "df8ce821-f20b-431f-9f52-b8df5adcf9ae",
   "metadata": {},
   "outputs": [
    {
     "name": "stdout",
     "output_type": "stream",
     "text": [
      "x, y의 내적: 14\n",
      "x와 x의 내적: 84\n",
      "x와 x의 내적이 x의 norm의 제곱인가?: True\n"
     ]
    }
   ],
   "source": [
    "x = np.array([1, 3, 5, 7])\n",
    "y = np.array([1, -2, 1, 2])\n",
    "\n",
    "norm_x = Norm(x).call()\n",
    "res = inner_product(x, y)\n",
    "res_2 = inner_product(x, x)\n",
    "print(f\"x, y의 내적: {res}\\nx와 x의 내적: {res_2}\")\n",
    "print(f\"x와 x의 내적이 x의 norm의 제곱인가?: {round(norm_x**2) == res_2}\")"
   ]
  },
  {
   "cell_type": "markdown",
   "id": "427b56c6-e164-4ce3-b5bb-4f6ab3d6d741",
   "metadata": {},
   "source": [
    "<img src=\"images/1211/3.JPG\"/>"
   ]
  },
  {
   "cell_type": "markdown",
   "id": "98b8e31d-073c-43b6-86ff-f76adfd1aa7f",
   "metadata": {},
   "source": [
    "## 직교 Orthogonal , 수식 Perpendicular , 평행 Parallel"
   ]
  },
  {
   "cell_type": "code",
   "execution_count": 42,
   "id": "057a6081-2088-4205-8aaa-f7e9ef76c572",
   "metadata": {},
   "outputs": [
    {
     "name": "stdout",
     "output_type": "stream",
     "text": [
      "직교하는가?: True\n"
     ]
    }
   ],
   "source": [
    "x = np.array([1, 0, 1, 1])\n",
    "y = np.array([-1, 0, 0, 1])\n",
    "\n",
    "print(f\"직교하는가?: {inner_product(x, y)==0}\")"
   ]
  },
  {
   "cell_type": "markdown",
   "id": "9d020e98-d2d2-4aa4-ae84-ed67aff9b711",
   "metadata": {},
   "source": [
    "<img src=\"images/1211/4.JPG\"/>"
   ]
  }
 ],
 "metadata": {
  "kernelspec": {
   "display_name": "Python 3 (ipykernel)",
   "language": "python",
   "name": "python3"
  },
  "language_info": {
   "codemirror_mode": {
    "name": "ipython",
    "version": 3
   },
   "file_extension": ".py",
   "mimetype": "text/x-python",
   "name": "python",
   "nbconvert_exporter": "python",
   "pygments_lexer": "ipython3",
   "version": "3.12.4"
  }
 },
 "nbformat": 4,
 "nbformat_minor": 5
}
