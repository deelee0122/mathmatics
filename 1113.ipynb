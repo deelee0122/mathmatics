{
 "cells": [
  {
   "cell_type": "raw",
   "id": "72699dd8-e02b-47c0-b46a-213467a9efa9",
   "metadata": {},
   "source": [
    "2x + 3y = 5\n",
    "-x + y = 5"
   ]
  },
  {
   "cell_type": "markdown",
   "id": "935e8775-5c1b-4f0a-b0ec-30ef5507d5d6",
   "metadata": {},
   "source": [
    "$ \\begin{bmatrix}\n",
    "2 & 3 \\\\\n",
    " -1& 2\n",
    "\\end{bmatrix} $"
   ]
  },
  {
   "cell_type": "markdown",
   "id": "f7990523-6ee9-4152-9f07-02b2efae1be2",
   "metadata": {},
   "source": [
    "$ -2 \\begin{bmatrix}\r\n",
    " 2  \\\\\r\n",
    "-1 \r\n",
    "\\end{bmatrix} + 3 \\begin{bmatrix}\r\n",
    " 3  \\\\\r\n",
    "1 \r\n",
    "\\end{bmatrix} = \\begin{bmatrix}\r\n",
    " 5  \\\\\r\n",
    "5\r\n",
    "\\end{bmatrix}$"
   ]
  },
  {
   "cell_type": "markdown",
   "id": "0430c474-0c87-4350-ad65-de10eb5bccaa",
   "metadata": {},
   "source": [
    "<img src=\"images/1113/1.JPG\" />"
   ]
  },
  {
   "cell_type": "markdown",
   "id": "cae62e90-adbf-4ac5-8766-461280104cc9",
   "metadata": {},
   "source": [
    "\\[\r\n",
    "x \\begin{bmatrix} \r\n",
    "  3 \\\\ \r\n",
    "  -2 \\\\ \r\n",
    "  6 \r\n",
    "\\end{bmatrix} \r\n",
    "+ \r\n",
    "y \\begin{bmatrix} \r\n",
    "  2 \\\\ \r\n",
    "  4 \\\\ \r\n",
    "  7 \r\n",
    "\\end{bmatrix} \r\n",
    "+ \r\n",
    "z \\begin{bmatrix} \r\n",
    "  6 \\\\ \r\n",
    "  -2 \\\\ \r\n",
    "  3 \r\n",
    "\\end{bmatrix} = \r\n",
    "\\begin{bmatrix} \r\n",
    "  9 \\\\ \r\n",
    "  11 \\\\ \r\n",
    "  2 \r\n",
    "\\end{bmatrix}\r\n",
    "\\]\r\n",
    "10\r\n",
    "\\end{bmatrix}  2 \r\n",
    "\\end{bmatrix}\r\n",
    "\\]0 \r\n",
    "\\end{bmatrix}\r\n",
    "\\]nd{bmatrix} = \r\n",
    "\\begin{bmatrix} \r\n",
    "10 \\\\ \r\n",
    "3 \\\\ \r\n",
    "10 \r\n",
    "\\end{bmatrix}\r\n",
    "\\]matrix}$"
   ]
  },
  {
   "cell_type": "code",
   "execution_count": 5,
   "id": "28c5d276-6f4e-488e-af0c-338d4c3b81dc",
   "metadata": {},
   "outputs": [
    {
     "data": {
      "text/plain": [
       "array([ 3.88888889,  1.        , -0.11111111])"
      ]
     },
     "execution_count": 5,
     "metadata": {},
     "output_type": "execute_result"
    }
   ],
   "source": [
    "import numpy as np\n",
    "\n",
    "# 세 개의 3차원 벡터 정의\n",
    "A_three_dim = np.array([3, -2, 6]).T\n",
    "B_three_dim = np.array([2, 4, 7]).T\n",
    "C_three_dim = np.array([4, -8, 50]).T #C_three_dim = np.array([4, -8, 5]).T 이벡터는 A과 Bdnl 선형결합(Linear Combination)으로 표현하여 해가 있다, 터진다\n",
    "\n",
    "# 목표 벡터\n",
    "target_vector = np.array([9, 11, 2])\n",
    "result = np.linalg.solve([A_three_dim , B_three_dim,  C_three_dim] , target_vector)\n",
    "result "
   ]
  },
  {
   "cell_type": "code",
   "execution_count": null,
   "id": "ea12a074-a9e5-4d38-9c1f-cd80a608936e",
   "metadata": {},
   "outputs": [],
   "source": []
  }
 ],
 "metadata": {
  "kernelspec": {
   "display_name": "Python 3 (ipykernel)",
   "language": "python",
   "name": "python3"
  },
  "language_info": {
   "codemirror_mode": {
    "name": "ipython",
    "version": 3
   },
   "file_extension": ".py",
   "mimetype": "text/x-python",
   "name": "python",
   "nbconvert_exporter": "python",
   "pygments_lexer": "ipython3",
   "version": "3.12.4"
  }
 },
 "nbformat": 4,
 "nbformat_minor": 5
}
